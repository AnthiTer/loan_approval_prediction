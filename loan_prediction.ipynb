{
 "cells": [
  {
   "cell_type": "markdown",
   "metadata": {},
   "source": [
    "### Import Libraries"
   ]
  },
  {
   "cell_type": "code",
   "execution_count": 2,
   "metadata": {},
   "outputs": [],
   "source": [
    "import pandas as pd\n",
    "import numpy as np\n",
    "import os\n",
    "import seaborn as sns\n",
    "import matplotlib.pyplot as plt\n",
    "\n",
    "from sklearn.ensemble import RandomForestClassifier\n",
    "from sklearn.linear_model import LogisticRegression\n",
    "from sklearn.metrics import classification_report\n",
    "from sklearn.metrics import confusion_matrix \n",
    "from sklearn.metrics import accuracy_score\n",
    "from sklearn.model_selection import train_test_split\n",
    "from sklearn.preprocessing import LabelEncoder\n",
    "from sklearn.tree import DecisionTreeClassifier\n",
    "\n",
    "from xgboost import XGBClassifier\n",
    "\n",
    "import warnings\n",
    "warnings.filterwarnings(\"ignore\")"
   ]
  },
  {
   "cell_type": "code",
   "execution_count": 3,
   "metadata": {},
   "outputs": [],
   "source": [
    "df_train = pd.read_csv(\"train_u6lujuX_CVtuZ9i.csv\")\n",
    "df_test = pd.read_csv(\"test_Y3wMUE5_7gLdaTN.csv\")"
   ]
  },
  {
   "cell_type": "code",
   "execution_count": 4,
   "metadata": {},
   "outputs": [
    {
     "data": {
      "text/html": [
       "<div>\n",
       "<style scoped>\n",
       "    .dataframe tbody tr th:only-of-type {\n",
       "        vertical-align: middle;\n",
       "    }\n",
       "\n",
       "    .dataframe tbody tr th {\n",
       "        vertical-align: top;\n",
       "    }\n",
       "\n",
       "    .dataframe thead th {\n",
       "        text-align: right;\n",
       "    }\n",
       "</style>\n",
       "<table border=\"1\" class=\"dataframe\">\n",
       "  <thead>\n",
       "    <tr style=\"text-align: right;\">\n",
       "      <th></th>\n",
       "      <th>ApplicantIncome</th>\n",
       "      <th>CoapplicantIncome</th>\n",
       "      <th>LoanAmount</th>\n",
       "      <th>Loan_Amount_Term</th>\n",
       "      <th>Credit_History</th>\n",
       "    </tr>\n",
       "  </thead>\n",
       "  <tbody>\n",
       "    <tr>\n",
       "      <th>count</th>\n",
       "      <td>614.000000</td>\n",
       "      <td>614.000000</td>\n",
       "      <td>592.000000</td>\n",
       "      <td>600.00000</td>\n",
       "      <td>564.000000</td>\n",
       "    </tr>\n",
       "    <tr>\n",
       "      <th>mean</th>\n",
       "      <td>5403.459283</td>\n",
       "      <td>1621.245798</td>\n",
       "      <td>146.412162</td>\n",
       "      <td>342.00000</td>\n",
       "      <td>0.842199</td>\n",
       "    </tr>\n",
       "    <tr>\n",
       "      <th>std</th>\n",
       "      <td>6109.041673</td>\n",
       "      <td>2926.248369</td>\n",
       "      <td>85.587325</td>\n",
       "      <td>65.12041</td>\n",
       "      <td>0.364878</td>\n",
       "    </tr>\n",
       "    <tr>\n",
       "      <th>min</th>\n",
       "      <td>150.000000</td>\n",
       "      <td>0.000000</td>\n",
       "      <td>9.000000</td>\n",
       "      <td>12.00000</td>\n",
       "      <td>0.000000</td>\n",
       "    </tr>\n",
       "    <tr>\n",
       "      <th>25%</th>\n",
       "      <td>2877.500000</td>\n",
       "      <td>0.000000</td>\n",
       "      <td>100.000000</td>\n",
       "      <td>360.00000</td>\n",
       "      <td>1.000000</td>\n",
       "    </tr>\n",
       "    <tr>\n",
       "      <th>50%</th>\n",
       "      <td>3812.500000</td>\n",
       "      <td>1188.500000</td>\n",
       "      <td>128.000000</td>\n",
       "      <td>360.00000</td>\n",
       "      <td>1.000000</td>\n",
       "    </tr>\n",
       "    <tr>\n",
       "      <th>75%</th>\n",
       "      <td>5795.000000</td>\n",
       "      <td>2297.250000</td>\n",
       "      <td>168.000000</td>\n",
       "      <td>360.00000</td>\n",
       "      <td>1.000000</td>\n",
       "    </tr>\n",
       "    <tr>\n",
       "      <th>max</th>\n",
       "      <td>81000.000000</td>\n",
       "      <td>41667.000000</td>\n",
       "      <td>700.000000</td>\n",
       "      <td>480.00000</td>\n",
       "      <td>1.000000</td>\n",
       "    </tr>\n",
       "  </tbody>\n",
       "</table>\n",
       "</div>"
      ],
      "text/plain": [
       "       ApplicantIncome  CoapplicantIncome  LoanAmount  Loan_Amount_Term  \\\n",
       "count       614.000000         614.000000  592.000000         600.00000   \n",
       "mean       5403.459283        1621.245798  146.412162         342.00000   \n",
       "std        6109.041673        2926.248369   85.587325          65.12041   \n",
       "min         150.000000           0.000000    9.000000          12.00000   \n",
       "25%        2877.500000           0.000000  100.000000         360.00000   \n",
       "50%        3812.500000        1188.500000  128.000000         360.00000   \n",
       "75%        5795.000000        2297.250000  168.000000         360.00000   \n",
       "max       81000.000000       41667.000000  700.000000         480.00000   \n",
       "\n",
       "       Credit_History  \n",
       "count      564.000000  \n",
       "mean         0.842199  \n",
       "std          0.364878  \n",
       "min          0.000000  \n",
       "25%          1.000000  \n",
       "50%          1.000000  \n",
       "75%          1.000000  \n",
       "max          1.000000  "
      ]
     },
     "execution_count": 4,
     "metadata": {},
     "output_type": "execute_result"
    }
   ],
   "source": [
    "df_train.describe()"
   ]
  },
  {
   "cell_type": "code",
   "execution_count": 5,
   "metadata": {},
   "outputs": [],
   "source": [
    "# drop column cause not useful\n",
    "df_train.drop(\"Loan_ID\", axis=1, inplace=True)\n",
    "df_test.drop(\"Loan_ID\", axis=1, inplace=True)"
   ]
  },
  {
   "cell_type": "markdown",
   "metadata": {},
   "source": [
    "### Missing Values"
   ]
  },
  {
   "cell_type": "code",
   "execution_count": 6,
   "metadata": {},
   "outputs": [
    {
     "data": {
      "text/plain": [
       "Credit_History       50\n",
       "Self_Employed        32\n",
       "LoanAmount           22\n",
       "Dependents           15\n",
       "Loan_Amount_Term     14\n",
       "Gender               13\n",
       "Married               3\n",
       "Education             0\n",
       "ApplicantIncome       0\n",
       "CoapplicantIncome     0\n",
       "Property_Area         0\n",
       "Loan_Status           0\n",
       "dtype: int64"
      ]
     },
     "execution_count": 6,
     "metadata": {},
     "output_type": "execute_result"
    }
   ],
   "source": [
    "df_train.isnull().sum().sort_values(ascending=False)"
   ]
  },
  {
   "cell_type": "markdown",
   "metadata": {},
   "source": [
    "### Replace missing values with the most frequent value"
   ]
  },
  {
   "cell_type": "code",
   "execution_count": 7,
   "metadata": {},
   "outputs": [],
   "source": [
    "cols_null = [\"Credit_History\", \"Self_Employed\", \"LoanAmount\", \n",
    "            \"Dependents\", \"Loan_Amount_Term\", \"Gender\", \"Married\"]\n",
    "\n",
    "for x in cols_null:\n",
    "    df_train[x] = df_train[x].fillna(df_train[x].\n",
    "    dropna().mode().values[0])"
   ]
  },
  {
   "cell_type": "code",
   "execution_count": 8,
   "metadata": {},
   "outputs": [],
   "source": [
    "num = df_train.select_dtypes(\"number\").columns.to_list()\n",
    "ctg = df_train.select_dtypes(\"object\").columns.to_list()\n",
    "\n",
    "loan_num = df_train[num]\n",
    "loan_ctg = df_train[ctg]"
   ]
  },
  {
   "cell_type": "code",
   "execution_count": 9,
   "metadata": {},
   "outputs": [
    {
     "data": {
      "image/png": "[encoded data removed]",
      "text/plain": [
       "<Figure size 216x432 with 1 Axes>"
      ]
     },
     "metadata": {
      "needs_background": "light"
     },
     "output_type": "display_data"
    }
   ],
   "source": [
    "tot = float(len(df_train[ctg[-1]]))\n",
    "plt.figure(figsize=(3,6))\n",
    "sns.set(style = \"whitegrid\")\n",
    "a = sns.countplot(df_train[ctg[-1]])\n",
    "\n",
    "for y in a.patches:\n",
    "    h = y.get_height()\n",
    "    a.text(y.get_x()+y.get_width()/2.,h + \n",
    "    3,\"{:1.2f}\".format(h/tot),ha=\"center\") \n",
    "plt.show()\n"
   ]
  },
  {
   "cell_type": "markdown",
   "metadata": {},
   "source": [
    "### Plot data"
   ]
  },
  {
   "cell_type": "code",
   "execution_count": 10,
   "metadata": {},
   "outputs": [
    {
     "data": {
      "image/png": "[encoded data removed]",
      "text/plain": [
       "<Figure size 864x648 with 1 Axes>"
      ]
     },
     "metadata": {},
     "output_type": "display_data"
    },
    {
     "data": {
      "image/png": "[encoded data removed]",
      "text/plain": [
       "<Figure size 864x648 with 1 Axes>"
      ]
     },
     "metadata": {},
     "output_type": "display_data"
    },
    {
     "data": {
      "image/png": "[encoded data removed]",
      "text/plain": [
       "<Figure size 864x648 with 1 Axes>"
      ]
     },
     "metadata": {},
     "output_type": "display_data"
    },
    {
     "data": {
      "image/png": "[encoded data removed]",
      "text/plain": [
       "<Figure size 864x648 with 1 Axes>"
      ]
     },
     "metadata": {},
     "output_type": "display_data"
    },
    {
     "data": {
      "image/png": "[encoded data removed]",
      "text/plain": [
       "<Figure size 864x648 with 1 Axes>"
      ]
     },
     "metadata": {},
     "output_type": "display_data"
    },
    {
     "data": {
      "image/png": "[encoded data removed]",
      "text/plain": [
       "<Figure size 864x648 with 1 Axes>"
      ]
     },
     "metadata": {},
     "output_type": "display_data"
    },
    {
     "data": {
      "image/png": "[encoded data removed]",
      "text/plain": [
       "<Figure size 864x648 with 1 Axes>"
      ]
     },
     "metadata": {},
     "output_type": "display_data"
    }
   ],
   "source": [
    "for x in loan_ctg:\n",
    "    plt.figure(figsize=(12,9))\n",
    "    plt.subplot(2,3,1)\n",
    "    sns.countplot(x=x, hue=\"Loan_Status\", data=df_train, palette=\"inferno\")\n",
    "    plt.xlabel(x, fontsize=12)"
   ]
  },
  {
   "cell_type": "code",
   "execution_count": 11,
   "metadata": {},
   "outputs": [
    {
     "data": {
      "image/png": "[encoded data removed]",
      "text/plain": [
       "<Figure size 432x288 with 1 Axes>"
      ]
     },
     "metadata": {},
     "output_type": "display_data"
    },
    {
     "data": {
      "image/png": "[encoded data removed]",
      "text/plain": [
       "<Figure size 432x288 with 1 Axes>"
      ]
     },
     "metadata": {},
     "output_type": "display_data"
    },
    {
     "data": {
      "image/png": "[encoded data removed]",
      "text/plain": [
       "<Figure size 432x288 with 1 Axes>"
      ]
     },
     "metadata": {},
     "output_type": "display_data"
    },
    {
     "data": {
      "image/png": "[encoded data removed]",
      "text/plain": [
       "<Figure size 432x288 with 1 Axes>"
      ]
     },
     "metadata": {},
     "output_type": "display_data"
    },
    {
     "data": {
      "image/png": "[encoded data removed]",
      "text/plain": [
       "<Figure size 432x288 with 1 Axes>"
      ]
     },
     "metadata": {},
     "output_type": "display_data"
    }
   ],
   "source": [
    "for x in loan_num:\n",
    "    plt.hist(loan_num[x])\n",
    "    plt.title(x)\n",
    "    plt.show()"
   ]
  },
  {
   "cell_type": "markdown",
   "metadata": {},
   "source": [
    "### Encoding data to numeric"
   ]
  },
  {
   "cell_type": "code",
   "execution_count": 12,
   "metadata": {},
   "outputs": [
    {
     "name": "stdout",
     "output_type": "stream",
     "text": [
      "<class 'pandas.core.frame.DataFrame'>\n",
      "RangeIndex: 614 entries, 0 to 613\n",
      "Data columns (total 12 columns):\n",
      " #   Column             Non-Null Count  Dtype  \n",
      "---  ------             --------------  -----  \n",
      " 0   Gender             614 non-null    int64  \n",
      " 1   Married            614 non-null    int64  \n",
      " 2   Education          614 non-null    int64  \n",
      " 3   Self_Employed      614 non-null    int64  \n",
      " 4   ApplicantIncome    614 non-null    int64  \n",
      " 5   CoapplicantIncome  614 non-null    float64\n",
      " 6   LoanAmount         614 non-null    float64\n",
      " 7   Loan_Amount_Term   614 non-null    float64\n",
      " 8   Credit_History     614 non-null    float64\n",
      " 9   Property_Area      614 non-null    int64  \n",
      " 10  Loan_Status        614 non-null    int64  \n",
      " 11  Dependents         614 non-null    int64  \n",
      "dtypes: float64(4), int64(8)\n",
      "memory usage: 57.7 KB\n",
      "None\n"
     ]
    }
   ],
   "source": [
    "to_num = {\"Male\": 0, \"Female\": 1,\n",
    "\"Yes\": 1, \"No\": 0,\n",
    "\"Graduate\": 1, \"Not Graduate\": 0,\n",
    "\"Urban\": 2, \"Semiurban\": 1,\"Rural\": 0,\n",
    "\"Y\": 1, \"N\": 0,\n",
    "\"3+\": 3}\n",
    "\n",
    "df_train = df_train.applymap(lambda l: to_num.get(l) if l in to_num else l)\n",
    "df_test = df_test.applymap(lambda l: to_num.get(l) if l in to_num else l)\n",
    "\n",
    "d1 = pd.to_numeric(df_train.Dependents)\n",
    "d2 = pd.to_numeric(df_test.Dependents)\n",
    "\n",
    "df_train.drop([\"Dependents\"], axis = 1, inplace = True)\n",
    "df_test.drop([\"Dependents\"], axis = 1, inplace = True)\n",
    "\n",
    "df_train = pd.concat([df_train, d1], axis = 1)\n",
    "df_test = pd.concat([df_test, d2], axis = 1)\n",
    "\n",
    "print(df_train.info())"
   ]
  },
  {
   "cell_type": "markdown",
   "metadata": {},
   "source": [
    "### Correlation matrices"
   ]
  },
  {
   "cell_type": "code",
   "execution_count": 13,
   "metadata": {},
   "outputs": [
    {
     "data": {
      "text/plain": [
       "<AxesSubplot:>"
      ]
     },
     "execution_count": 13,
     "metadata": {},
     "output_type": "execute_result"
    },
    {
     "data": {
      "image/png": "[encoded data removed]",
      "text/plain": [
       "<Figure size 432x288 with 2 Axes>"
      ]
     },
     "metadata": {},
     "output_type": "display_data"
    }
   ],
   "source": [
    "sns.heatmap(df_train.corr(), cmap=\"CMRmap_r\")"
   ]
  },
  {
   "cell_type": "code",
   "execution_count": 14,
   "metadata": {},
   "outputs": [
    {
     "data": {
      "text/html": [
       "<style type=\"text/css\">\n",
       "#T_a6061_row0_col0, #T_a6061_row1_col1, #T_a6061_row2_col2, #T_a6061_row3_col3, #T_a6061_row4_col4, #T_a6061_row5_col5, #T_a6061_row6_col6, #T_a6061_row7_col7, #T_a6061_row8_col8, #T_a6061_row9_col9, #T_a6061_row10_col10, #T_a6061_row11_col11 {\n",
       "  background-color: #4d004b;\n",
       "  color: #f1f1f1;\n",
       "}\n",
       "#T_a6061_row0_col1, #T_a6061_row0_col6, #T_a6061_row0_col11, #T_a6061_row1_col0, #T_a6061_row1_col7, #T_a6061_row4_col5, #T_a6061_row5_col4, #T_a6061_row5_col10, #T_a6061_row7_col3, #T_a6061_row7_col9, #T_a6061_row9_col3, #T_a6061_row11_col2, #T_a6061_row11_col7, #T_a6061_row11_col8 {\n",
       "  background-color: #f7fcfd;\n",
       "  color: #000000;\n",
       "}\n",
       "#T_a6061_row0_col2, #T_a6061_row0_col9, #T_a6061_row8_col6, #T_a6061_row9_col4 {\n",
       "  background-color: #e6f0f6;\n",
       "  color: #000000;\n",
       "}\n",
       "#T_a6061_row0_col3, #T_a6061_row7_col8, #T_a6061_row7_col10 {\n",
       "  background-color: #f1f8fb;\n",
       "  color: #000000;\n",
       "}\n",
       "#T_a6061_row0_col4, #T_a6061_row3_col10, #T_a6061_row4_col7, #T_a6061_row4_col10, #T_a6061_row7_col5, #T_a6061_row9_col6, #T_a6061_row10_col5 {\n",
       "  background-color: #eef5f9;\n",
       "  color: #000000;\n",
       "}\n",
       "#T_a6061_row0_col5, #T_a6061_row0_col8, #T_a6061_row8_col3, #T_a6061_row10_col3 {\n",
       "  background-color: #f2f8fb;\n",
       "  color: #000000;\n",
       "}\n",
       "#T_a6061_row0_col7, #T_a6061_row2_col5, #T_a6061_row2_col7 {\n",
       "  background-color: #d7e5f0;\n",
       "  color: #000000;\n",
       "}\n",
       "#T_a6061_row0_col10, #T_a6061_row1_col3, #T_a6061_row3_col8, #T_a6061_row6_col8 {\n",
       "  background-color: #f1f7fa;\n",
       "  color: #000000;\n",
       "}\n",
       "#T_a6061_row1_col2, #T_a6061_row2_col3, #T_a6061_row3_col9, #T_a6061_row5_col7, #T_a6061_row9_col8 {\n",
       "  background-color: #f0f7fa;\n",
       "  color: #000000;\n",
       "}\n",
       "#T_a6061_row1_col4 {\n",
       "  background-color: #dae7f1;\n",
       "  color: #000000;\n",
       "}\n",
       "#T_a6061_row1_col5, #T_a6061_row5_col11 {\n",
       "  background-color: #d3e2ef;\n",
       "  color: #000000;\n",
       "}\n",
       "#T_a6061_row1_col6 {\n",
       "  background-color: #c5d8e9;\n",
       "  color: #000000;\n",
       "}\n",
       "#T_a6061_row1_col8, #T_a6061_row5_col8 {\n",
       "  background-color: #eef6fa;\n",
       "  color: #000000;\n",
       "}\n",
       "#T_a6061_row1_col9 {\n",
       "  background-color: #e9f2f8;\n",
       "  color: #000000;\n",
       "}\n",
       "#T_a6061_row1_col10, #T_a6061_row6_col3 {\n",
       "  background-color: #dce9f2;\n",
       "  color: #000000;\n",
       "}\n",
       "#T_a6061_row1_col11 {\n",
       "  background-color: #96abd1;\n",
       "  color: #f1f1f1;\n",
       "}\n",
       "#T_a6061_row2_col0 {\n",
       "  background-color: #b2cae1;\n",
       "  color: #000000;\n",
       "}\n",
       "#T_a6061_row2_col1, #T_a6061_row8_col0 {\n",
       "  background-color: #bdd1e5;\n",
       "  color: #000000;\n",
       "}\n",
       "#T_a6061_row2_col4 {\n",
       "  background-color: #c4d7e8;\n",
       "  color: #000000;\n",
       "}\n",
       "#T_a6061_row2_col6, #T_a6061_row4_col11 {\n",
       "  background-color: #c0d4e6;\n",
       "  color: #000000;\n",
       "}\n",
       "#T_a6061_row2_col8, #T_a6061_row5_col2, #T_a6061_row8_col11 {\n",
       "  background-color: #e3eef5;\n",
       "  color: #000000;\n",
       "}\n",
       "#T_a6061_row2_col9, #T_a6061_row7_col6, #T_a6061_row11_col5 {\n",
       "  background-color: #dfebf4;\n",
       "  color: #000000;\n",
       "}\n",
       "#T_a6061_row2_col10, #T_a6061_row11_col0 {\n",
       "  background-color: #ddeaf3;\n",
       "  color: #000000;\n",
       "}\n",
       "#T_a6061_row2_col11, #T_a6061_row10_col4, #T_a6061_row10_col9 {\n",
       "  background-color: #e5eff6;\n",
       "  color: #000000;\n",
       "}\n",
       "#T_a6061_row3_col0, #T_a6061_row5_col6 {\n",
       "  background-color: #bbd0e4;\n",
       "  color: #000000;\n",
       "}\n",
       "#T_a6061_row3_col1, #T_a6061_row9_col1 {\n",
       "  background-color: #bacfe4;\n",
       "  color: #000000;\n",
       "}\n",
       "#T_a6061_row3_col2, #T_a6061_row3_col7, #T_a6061_row7_col4, #T_a6061_row11_col10 {\n",
       "  background-color: #ebf4f8;\n",
       "  color: #000000;\n",
       "}\n",
       "#T_a6061_row3_col4 {\n",
       "  background-color: #c8daea;\n",
       "  color: #000000;\n",
       "}\n",
       "#T_a6061_row3_col5 {\n",
       "  background-color: #e6f0f7;\n",
       "  color: #000000;\n",
       "}\n",
       "#T_a6061_row3_col6 {\n",
       "  background-color: #ccddec;\n",
       "  color: #000000;\n",
       "}\n",
       "#T_a6061_row3_col11 {\n",
       "  background-color: #cddeec;\n",
       "  color: #000000;\n",
       "}\n",
       "#T_a6061_row4_col0 {\n",
       "  background-color: #c6d8e9;\n",
       "  color: #000000;\n",
       "}\n",
       "#T_a6061_row4_col1 {\n",
       "  background-color: #b0c9e1;\n",
       "  color: #000000;\n",
       "}\n",
       "#T_a6061_row4_col2 {\n",
       "  background-color: #d0e0ed;\n",
       "  color: #000000;\n",
       "}\n",
       "#T_a6061_row4_col3, #T_a6061_row10_col11 {\n",
       "  background-color: #d9e6f1;\n",
       "  color: #000000;\n",
       "}\n",
       "#T_a6061_row4_col6 {\n",
       "  background-color: #8c71b4;\n",
       "  color: #f1f1f1;\n",
       "}\n",
       "#T_a6061_row4_col8 {\n",
       "  background-color: #f3f9fc;\n",
       "  color: #000000;\n",
       "}\n",
       "#T_a6061_row4_col9, #T_a6061_row7_col11 {\n",
       "  background-color: #ecf4f9;\n",
       "  color: #000000;\n",
       "}\n",
       "#T_a6061_row5_col0 {\n",
       "  background-color: #cbdceb;\n",
       "  color: #000000;\n",
       "}\n",
       "#T_a6061_row5_col1, #T_a6061_row7_col0 {\n",
       "  background-color: #acc6df;\n",
       "  color: #000000;\n",
       "}\n",
       "#T_a6061_row5_col3 {\n",
       "  background-color: #f4fafc;\n",
       "  color: #000000;\n",
       "}\n",
       "#T_a6061_row5_col9 {\n",
       "  background-color: #e9f2f7;\n",
       "  color: #000000;\n",
       "}\n",
       "#T_a6061_row6_col0 {\n",
       "  background-color: #cfdfed;\n",
       "  color: #000000;\n",
       "}\n",
       "#T_a6061_row6_col1 {\n",
       "  background-color: #9fbcda;\n",
       "  color: #000000;\n",
       "}\n",
       "#T_a6061_row6_col2 {\n",
       "  background-color: #c9dbea;\n",
       "  color: #000000;\n",
       "}\n",
       "#T_a6061_row6_col4 {\n",
       "  background-color: #8c70b3;\n",
       "  color: #f1f1f1;\n",
       "}\n",
       "#T_a6061_row6_col5, #T_a6061_row8_col1 {\n",
       "  background-color: #b9cee4;\n",
       "  color: #000000;\n",
       "}\n",
       "#T_a6061_row6_col7 {\n",
       "  background-color: #e0ecf4;\n",
       "  color: #000000;\n",
       "}\n",
       "#T_a6061_row6_col9, #T_a6061_row6_col10, #T_a6061_row9_col7 {\n",
       "  background-color: #f3f9fb;\n",
       "  color: #000000;\n",
       "}\n",
       "#T_a6061_row6_col11, #T_a6061_row9_col0 {\n",
       "  background-color: #b5cce3;\n",
       "  color: #000000;\n",
       "}\n",
       "#T_a6061_row7_col1 {\n",
       "  background-color: #cedfec;\n",
       "  color: #000000;\n",
       "}\n",
       "#T_a6061_row7_col2, #T_a6061_row8_col2 {\n",
       "  background-color: #e1ecf4;\n",
       "  color: #000000;\n",
       "}\n",
       "#T_a6061_row8_col4, #T_a6061_row8_col7, #T_a6061_row9_col10, #T_a6061_row11_col3 {\n",
       "  background-color: #e7f1f7;\n",
       "  color: #000000;\n",
       "}\n",
       "#T_a6061_row8_col5, #T_a6061_row9_col2, #T_a6061_row9_col5 {\n",
       "  background-color: #e2edf5;\n",
       "  color: #000000;\n",
       "}\n",
       "#T_a6061_row8_col9, #T_a6061_row10_col7, #T_a6061_row11_col9 {\n",
       "  background-color: #eaf3f8;\n",
       "  color: #000000;\n",
       "}\n",
       "#T_a6061_row8_col10 {\n",
       "  background-color: #8c80bb;\n",
       "  color: #f1f1f1;\n",
       "}\n",
       "#T_a6061_row9_col11 {\n",
       "  background-color: #dbe8f2;\n",
       "  color: #000000;\n",
       "}\n",
       "#T_a6061_row10_col0 {\n",
       "  background-color: #bed2e6;\n",
       "  color: #000000;\n",
       "}\n",
       "#T_a6061_row10_col1 {\n",
       "  background-color: #a9c4de;\n",
       "  color: #000000;\n",
       "}\n",
       "#T_a6061_row10_col2 {\n",
       "  background-color: #deeaf3;\n",
       "  color: #000000;\n",
       "}\n",
       "#T_a6061_row10_col6 {\n",
       "  background-color: #ebf3f8;\n",
       "  color: #000000;\n",
       "}\n",
       "#T_a6061_row10_col8 {\n",
       "  background-color: #8c82bc;\n",
       "  color: #f1f1f1;\n",
       "}\n",
       "#T_a6061_row11_col1 {\n",
       "  background-color: #8c91c4;\n",
       "  color: #f1f1f1;\n",
       "}\n",
       "#T_a6061_row11_col4 {\n",
       "  background-color: #cadbeb;\n",
       "  color: #000000;\n",
       "}\n",
       "#T_a6061_row11_col6 {\n",
       "  background-color: #c1d4e7;\n",
       "  color: #000000;\n",
       "}\n",
       "</style>\n",
       "<table id=\"T_a6061\">\n",
       "  <thead>\n",
       "    <tr>\n",
       "      <th class=\"blank level0\" >&nbsp;</th>\n",
       "      <th id=\"T_a6061_level0_col0\" class=\"col_heading level0 col0\" >Gender</th>\n",
       "      <th id=\"T_a6061_level0_col1\" class=\"col_heading level0 col1\" >Married</th>\n",
       "      <th id=\"T_a6061_level0_col2\" class=\"col_heading level0 col2\" >Education</th>\n",
       "      <th id=\"T_a6061_level0_col3\" class=\"col_heading level0 col3\" >Self_Employed</th>\n",
       "      <th id=\"T_a6061_level0_col4\" class=\"col_heading level0 col4\" >ApplicantIncome</th>\n",
       "      <th id=\"T_a6061_level0_col5\" class=\"col_heading level0 col5\" >CoapplicantIncome</th>\n",
       "      <th id=\"T_a6061_level0_col6\" class=\"col_heading level0 col6\" >LoanAmount</th>\n",
       "      <th id=\"T_a6061_level0_col7\" class=\"col_heading level0 col7\" >Loan_Amount_Term</th>\n",
       "      <th id=\"T_a6061_level0_col8\" class=\"col_heading level0 col8\" >Credit_History</th>\n",
       "      <th id=\"T_a6061_level0_col9\" class=\"col_heading level0 col9\" >Property_Area</th>\n",
       "      <th id=\"T_a6061_level0_col10\" class=\"col_heading level0 col10\" >Loan_Status</th>\n",
       "      <th id=\"T_a6061_level0_col11\" class=\"col_heading level0 col11\" >Dependents</th>\n",
       "    </tr>\n",
       "  </thead>\n",
       "  <tbody>\n",
       "    <tr>\n",
       "      <th id=\"T_a6061_level0_row0\" class=\"row_heading level0 row0\" >Gender</th>\n",
       "      <td id=\"T_a6061_row0_col0\" class=\"data row0 col0\" >1.00</td>\n",
       "      <td id=\"T_a6061_row0_col1\" class=\"data row0 col1\" >-0.36</td>\n",
       "      <td id=\"T_a6061_row0_col2\" class=\"data row0 col2\" >0.05</td>\n",
       "      <td id=\"T_a6061_row0_col3\" class=\"data row0 col3\" >0.00</td>\n",
       "      <td id=\"T_a6061_row0_col4\" class=\"data row0 col4\" >-0.06</td>\n",
       "      <td id=\"T_a6061_row0_col5\" class=\"data row0 col5\" >-0.08</td>\n",
       "      <td id=\"T_a6061_row0_col6\" class=\"data row0 col6\" >-0.11</td>\n",
       "      <td id=\"T_a6061_row0_col7\" class=\"data row0 col7\" >0.07</td>\n",
       "      <td id=\"T_a6061_row0_col8\" class=\"data row0 col8\" >-0.01</td>\n",
       "      <td id=\"T_a6061_row0_col9\" class=\"data row0 col9\" >0.03</td>\n",
       "      <td id=\"T_a6061_row0_col10\" class=\"data row0 col10\" >-0.02</td>\n",
       "      <td id=\"T_a6061_row0_col11\" class=\"data row0 col11\" >-0.17</td>\n",
       "    </tr>\n",
       "    <tr>\n",
       "      <th id=\"T_a6061_level0_row1\" class=\"row_heading level0 row1\" >Married</th>\n",
       "      <td id=\"T_a6061_row1_col0\" class=\"data row1 col0\" >-0.36</td>\n",
       "      <td id=\"T_a6061_row1_col1\" class=\"data row1 col1\" >1.00</td>\n",
       "      <td id=\"T_a6061_row1_col2\" class=\"data row1 col2\" >-0.01</td>\n",
       "      <td id=\"T_a6061_row1_col3\" class=\"data row1 col3\" >0.00</td>\n",
       "      <td id=\"T_a6061_row1_col4\" class=\"data row1 col4\" >0.05</td>\n",
       "      <td id=\"T_a6061_row1_col5\" class=\"data row1 col5\" >0.08</td>\n",
       "      <td id=\"T_a6061_row1_col6\" class=\"data row1 col6\" >0.15</td>\n",
       "      <td id=\"T_a6061_row1_col7\" class=\"data row1 col7\" >-0.10</td>\n",
       "      <td id=\"T_a6061_row1_col8\" class=\"data row1 col8\" >0.01</td>\n",
       "      <td id=\"T_a6061_row1_col9\" class=\"data row1 col9\" >0.00</td>\n",
       "      <td id=\"T_a6061_row1_col10\" class=\"data row1 col10\" >0.09</td>\n",
       "      <td id=\"T_a6061_row1_col11\" class=\"data row1 col11\" >0.33</td>\n",
       "    </tr>\n",
       "    <tr>\n",
       "      <th id=\"T_a6061_level0_row2\" class=\"row_heading level0 row2\" >Education</th>\n",
       "      <td id=\"T_a6061_row2_col0\" class=\"data row2 col0\" >0.05</td>\n",
       "      <td id=\"T_a6061_row2_col1\" class=\"data row2 col1\" >-0.01</td>\n",
       "      <td id=\"T_a6061_row2_col2\" class=\"data row2 col2\" >1.00</td>\n",
       "      <td id=\"T_a6061_row2_col3\" class=\"data row2 col3\" >0.01</td>\n",
       "      <td id=\"T_a6061_row2_col4\" class=\"data row2 col4\" >0.14</td>\n",
       "      <td id=\"T_a6061_row2_col5\" class=\"data row2 col5\" >0.06</td>\n",
       "      <td id=\"T_a6061_row2_col6\" class=\"data row2 col6\" >0.17</td>\n",
       "      <td id=\"T_a6061_row2_col7\" class=\"data row2 col7\" >0.07</td>\n",
       "      <td id=\"T_a6061_row2_col8\" class=\"data row2 col8\" >0.07</td>\n",
       "      <td id=\"T_a6061_row2_col9\" class=\"data row2 col9\" >0.07</td>\n",
       "      <td id=\"T_a6061_row2_col10\" class=\"data row2 col10\" >0.09</td>\n",
       "      <td id=\"T_a6061_row2_col11\" class=\"data row2 col11\" >-0.06</td>\n",
       "    </tr>\n",
       "    <tr>\n",
       "      <th id=\"T_a6061_level0_row3\" class=\"row_heading level0 row3\" >Self_Employed</th>\n",
       "      <td id=\"T_a6061_row3_col0\" class=\"data row3 col0\" >0.00</td>\n",
       "      <td id=\"T_a6061_row3_col1\" class=\"data row3 col1\" >0.00</td>\n",
       "      <td id=\"T_a6061_row3_col2\" class=\"data row3 col2\" >0.01</td>\n",
       "      <td id=\"T_a6061_row3_col3\" class=\"data row3 col3\" >1.00</td>\n",
       "      <td id=\"T_a6061_row3_col4\" class=\"data row3 col4\" >0.13</td>\n",
       "      <td id=\"T_a6061_row3_col5\" class=\"data row3 col5\" >-0.02</td>\n",
       "      <td id=\"T_a6061_row3_col6\" class=\"data row3 col6\" >0.11</td>\n",
       "      <td id=\"T_a6061_row3_col7\" class=\"data row3 col7\" >-0.03</td>\n",
       "      <td id=\"T_a6061_row3_col8\" class=\"data row3 col8\" >-0.00</td>\n",
       "      <td id=\"T_a6061_row3_col9\" class=\"data row3 col9\" >-0.03</td>\n",
       "      <td id=\"T_a6061_row3_col10\" class=\"data row3 col10\" >-0.00</td>\n",
       "      <td id=\"T_a6061_row3_col11\" class=\"data row3 col11\" >0.06</td>\n",
       "    </tr>\n",
       "    <tr>\n",
       "      <th id=\"T_a6061_level0_row4\" class=\"row_heading level0 row4\" >ApplicantIncome</th>\n",
       "      <td id=\"T_a6061_row4_col0\" class=\"data row4 col0\" >-0.06</td>\n",
       "      <td id=\"T_a6061_row4_col1\" class=\"data row4 col1\" >0.05</td>\n",
       "      <td id=\"T_a6061_row4_col2\" class=\"data row4 col2\" >0.14</td>\n",
       "      <td id=\"T_a6061_row4_col3\" class=\"data row4 col3\" >0.13</td>\n",
       "      <td id=\"T_a6061_row4_col4\" class=\"data row4 col4\" >1.00</td>\n",
       "      <td id=\"T_a6061_row4_col5\" class=\"data row4 col5\" >-0.12</td>\n",
       "      <td id=\"T_a6061_row4_col6\" class=\"data row4 col6\" >0.56</td>\n",
       "      <td id=\"T_a6061_row4_col7\" class=\"data row4 col7\" >-0.05</td>\n",
       "      <td id=\"T_a6061_row4_col8\" class=\"data row4 col8\" >-0.02</td>\n",
       "      <td id=\"T_a6061_row4_col9\" class=\"data row4 col9\" >-0.01</td>\n",
       "      <td id=\"T_a6061_row4_col10\" class=\"data row4 col10\" >-0.00</td>\n",
       "      <td id=\"T_a6061_row4_col11\" class=\"data row4 col11\" >0.12</td>\n",
       "    </tr>\n",
       "    <tr>\n",
       "      <th id=\"T_a6061_level0_row5\" class=\"row_heading level0 row5\" >CoapplicantIncome</th>\n",
       "      <td id=\"T_a6061_row5_col0\" class=\"data row5 col0\" >-0.08</td>\n",
       "      <td id=\"T_a6061_row5_col1\" class=\"data row5 col1\" >0.08</td>\n",
       "      <td id=\"T_a6061_row5_col2\" class=\"data row5 col2\" >0.06</td>\n",
       "      <td id=\"T_a6061_row5_col3\" class=\"data row5 col3\" >-0.02</td>\n",
       "      <td id=\"T_a6061_row5_col4\" class=\"data row5 col4\" >-0.12</td>\n",
       "      <td id=\"T_a6061_row5_col5\" class=\"data row5 col5\" >1.00</td>\n",
       "      <td id=\"T_a6061_row5_col6\" class=\"data row5 col6\" >0.19</td>\n",
       "      <td id=\"T_a6061_row5_col7\" class=\"data row5 col7\" >-0.06</td>\n",
       "      <td id=\"T_a6061_row5_col8\" class=\"data row5 col8\" >0.01</td>\n",
       "      <td id=\"T_a6061_row5_col9\" class=\"data row5 col9\" >0.01</td>\n",
       "      <td id=\"T_a6061_row5_col10\" class=\"data row5 col10\" >-0.06</td>\n",
       "      <td id=\"T_a6061_row5_col11\" class=\"data row5 col11\" >0.03</td>\n",
       "    </tr>\n",
       "    <tr>\n",
       "      <th id=\"T_a6061_level0_row6\" class=\"row_heading level0 row6\" >LoanAmount</th>\n",
       "      <td id=\"T_a6061_row6_col0\" class=\"data row6 col0\" >-0.11</td>\n",
       "      <td id=\"T_a6061_row6_col1\" class=\"data row6 col1\" >0.15</td>\n",
       "      <td id=\"T_a6061_row6_col2\" class=\"data row6 col2\" >0.17</td>\n",
       "      <td id=\"T_a6061_row6_col3\" class=\"data row6 col3\" >0.11</td>\n",
       "      <td id=\"T_a6061_row6_col4\" class=\"data row6 col4\" >0.56</td>\n",
       "      <td id=\"T_a6061_row6_col5\" class=\"data row6 col5\" >0.19</td>\n",
       "      <td id=\"T_a6061_row6_col6\" class=\"data row6 col6\" >1.00</td>\n",
       "      <td id=\"T_a6061_row6_col7\" class=\"data row6 col7\" >0.04</td>\n",
       "      <td id=\"T_a6061_row6_col8\" class=\"data row6 col8\" >-0.00</td>\n",
       "      <td id=\"T_a6061_row6_col9\" class=\"data row6 col9\" >-0.05</td>\n",
       "      <td id=\"T_a6061_row6_col10\" class=\"data row6 col10\" >-0.03</td>\n",
       "      <td id=\"T_a6061_row6_col11\" class=\"data row6 col11\" >0.16</td>\n",
       "    </tr>\n",
       "    <tr>\n",
       "      <th id=\"T_a6061_level0_row7\" class=\"row_heading level0 row7\" >Loan_Amount_Term</th>\n",
       "      <td id=\"T_a6061_row7_col0\" class=\"data row7 col0\" >0.07</td>\n",
       "      <td id=\"T_a6061_row7_col1\" class=\"data row7 col1\" >-0.10</td>\n",
       "      <td id=\"T_a6061_row7_col2\" class=\"data row7 col2\" >0.07</td>\n",
       "      <td id=\"T_a6061_row7_col3\" class=\"data row7 col3\" >-0.03</td>\n",
       "      <td id=\"T_a6061_row7_col4\" class=\"data row7 col4\" >-0.05</td>\n",
       "      <td id=\"T_a6061_row7_col5\" class=\"data row7 col5\" >-0.06</td>\n",
       "      <td id=\"T_a6061_row7_col6\" class=\"data row7 col6\" >0.04</td>\n",
       "      <td id=\"T_a6061_row7_col7\" class=\"data row7 col7\" >1.00</td>\n",
       "      <td id=\"T_a6061_row7_col8\" class=\"data row7 col8\" >-0.00</td>\n",
       "      <td id=\"T_a6061_row7_col9\" class=\"data row7 col9\" >-0.08</td>\n",
       "      <td id=\"T_a6061_row7_col10\" class=\"data row7 col10\" >-0.02</td>\n",
       "      <td id=\"T_a6061_row7_col11\" class=\"data row7 col11\" >-0.10</td>\n",
       "    </tr>\n",
       "    <tr>\n",
       "      <th id=\"T_a6061_level0_row8\" class=\"row_heading level0 row8\" >Credit_History</th>\n",
       "      <td id=\"T_a6061_row8_col0\" class=\"data row8 col0\" >-0.01</td>\n",
       "      <td id=\"T_a6061_row8_col1\" class=\"data row8 col1\" >0.01</td>\n",
       "      <td id=\"T_a6061_row8_col2\" class=\"data row8 col2\" >0.07</td>\n",
       "      <td id=\"T_a6061_row8_col3\" class=\"data row8 col3\" >-0.00</td>\n",
       "      <td id=\"T_a6061_row8_col4\" class=\"data row8 col4\" >-0.02</td>\n",
       "      <td id=\"T_a6061_row8_col5\" class=\"data row8 col5\" >0.01</td>\n",
       "      <td id=\"T_a6061_row8_col6\" class=\"data row8 col6\" >-0.00</td>\n",
       "      <td id=\"T_a6061_row8_col7\" class=\"data row8 col7\" >-0.00</td>\n",
       "      <td id=\"T_a6061_row8_col8\" class=\"data row8 col8\" >1.00</td>\n",
       "      <td id=\"T_a6061_row8_col9\" class=\"data row8 col9\" >0.00</td>\n",
       "      <td id=\"T_a6061_row8_col10\" class=\"data row8 col10\" >0.54</td>\n",
       "      <td id=\"T_a6061_row8_col11\" class=\"data row8 col11\" >-0.04</td>\n",
       "    </tr>\n",
       "    <tr>\n",
       "      <th id=\"T_a6061_level0_row9\" class=\"row_heading level0 row9\" >Property_Area</th>\n",
       "      <td id=\"T_a6061_row9_col0\" class=\"data row9 col0\" >0.03</td>\n",
       "      <td id=\"T_a6061_row9_col1\" class=\"data row9 col1\" >0.00</td>\n",
       "      <td id=\"T_a6061_row9_col2\" class=\"data row9 col2\" >0.07</td>\n",
       "      <td id=\"T_a6061_row9_col3\" class=\"data row9 col3\" >-0.03</td>\n",
       "      <td id=\"T_a6061_row9_col4\" class=\"data row9 col4\" >-0.01</td>\n",
       "      <td id=\"T_a6061_row9_col5\" class=\"data row9 col5\" >0.01</td>\n",
       "      <td id=\"T_a6061_row9_col6\" class=\"data row9 col6\" >-0.05</td>\n",
       "      <td id=\"T_a6061_row9_col7\" class=\"data row9 col7\" >-0.08</td>\n",
       "      <td id=\"T_a6061_row9_col8\" class=\"data row9 col8\" >0.00</td>\n",
       "      <td id=\"T_a6061_row9_col9\" class=\"data row9 col9\" >1.00</td>\n",
       "      <td id=\"T_a6061_row9_col10\" class=\"data row9 col10\" >0.03</td>\n",
       "      <td id=\"T_a6061_row9_col11\" class=\"data row9 col11\" >-0.00</td>\n",
       "    </tr>\n",
       "    <tr>\n",
       "      <th id=\"T_a6061_level0_row10\" class=\"row_heading level0 row10\" >Loan_Status</th>\n",
       "      <td id=\"T_a6061_row10_col0\" class=\"data row10 col0\" >-0.02</td>\n",
       "      <td id=\"T_a6061_row10_col1\" class=\"data row10 col1\" >0.09</td>\n",
       "      <td id=\"T_a6061_row10_col2\" class=\"data row10 col2\" >0.09</td>\n",
       "      <td id=\"T_a6061_row10_col3\" class=\"data row10 col3\" >-0.00</td>\n",
       "      <td id=\"T_a6061_row10_col4\" class=\"data row10 col4\" >-0.00</td>\n",
       "      <td id=\"T_a6061_row10_col5\" class=\"data row10 col5\" >-0.06</td>\n",
       "      <td id=\"T_a6061_row10_col6\" class=\"data row10 col6\" >-0.03</td>\n",
       "      <td id=\"T_a6061_row10_col7\" class=\"data row10 col7\" >-0.02</td>\n",
       "      <td id=\"T_a6061_row10_col8\" class=\"data row10 col8\" >0.54</td>\n",
       "      <td id=\"T_a6061_row10_col9\" class=\"data row10 col9\" >0.03</td>\n",
       "      <td id=\"T_a6061_row10_col10\" class=\"data row10 col10\" >1.00</td>\n",
       "      <td id=\"T_a6061_row10_col11\" class=\"data row10 col11\" >0.01</td>\n",
       "    </tr>\n",
       "    <tr>\n",
       "      <th id=\"T_a6061_level0_row11\" class=\"row_heading level0 row11\" >Dependents</th>\n",
       "      <td id=\"T_a6061_row11_col0\" class=\"data row11 col0\" >-0.17</td>\n",
       "      <td id=\"T_a6061_row11_col1\" class=\"data row11 col1\" >0.33</td>\n",
       "      <td id=\"T_a6061_row11_col2\" class=\"data row11 col2\" >-0.06</td>\n",
       "      <td id=\"T_a6061_row11_col3\" class=\"data row11 col3\" >0.06</td>\n",
       "      <td id=\"T_a6061_row11_col4\" class=\"data row11 col4\" >0.12</td>\n",
       "      <td id=\"T_a6061_row11_col5\" class=\"data row11 col5\" >0.03</td>\n",
       "      <td id=\"T_a6061_row11_col6\" class=\"data row11 col6\" >0.16</td>\n",
       "      <td id=\"T_a6061_row11_col7\" class=\"data row11 col7\" >-0.10</td>\n",
       "      <td id=\"T_a6061_row11_col8\" class=\"data row11 col8\" >-0.04</td>\n",
       "      <td id=\"T_a6061_row11_col9\" class=\"data row11 col9\" >-0.00</td>\n",
       "      <td id=\"T_a6061_row11_col10\" class=\"data row11 col10\" >0.01</td>\n",
       "      <td id=\"T_a6061_row11_col11\" class=\"data row11 col11\" >1.00</td>\n",
       "    </tr>\n",
       "  </tbody>\n",
       "</table>\n"
      ],
      "text/plain": [
       "<pandas.io.formats.style.Styler at 0x133cc63d0>"
      ]
     },
     "execution_count": 14,
     "metadata": {},
     "output_type": "execute_result"
    }
   ],
   "source": [
    "c = df_train.corr()\n",
    "c.style.background_gradient(cmap='BuPu').set_precision(2)"
   ]
  },
  {
   "cell_type": "markdown",
   "metadata": {},
   "source": [
    "## Machine Learning Models"
   ]
  },
  {
   "cell_type": "code",
   "execution_count": 15,
   "metadata": {},
   "outputs": [],
   "source": [
    "x = df_train.drop(\"Loan_Status\", axis = 1)\n",
    "y = df_train[\"Loan_Status\"]\n",
    "\n",
    "x_train, x_test, y_train, y_test = train_test_split(x,y,test_size=0.3,random_state=0)"
   ]
  },
  {
   "cell_type": "markdown",
   "metadata": {},
   "source": [
    "### Decision Trees"
   ]
  },
  {
   "cell_type": "code",
   "execution_count": 16,
   "metadata": {},
   "outputs": [
    {
     "name": "stdout",
     "output_type": "stream",
     "text": [
      "              precision    recall  f1-score   support\n",
      "\n",
      "           0       0.48      0.51      0.50        51\n",
      "           1       0.81      0.79      0.80       134\n",
      "\n",
      "    accuracy                           0.71       185\n",
      "   macro avg       0.65      0.65      0.65       185\n",
      "weighted avg       0.72      0.71      0.72       185\n",
      "\n",
      "71.35% accuracy\n"
     ]
    }
   ],
   "source": [
    "dt = DecisionTreeClassifier()\n",
    "dt.fit(x_train, y_train)\n",
    "\n",
    "y_predict = dt.predict(x_test)\n",
    "print(classification_report(y_test, y_predict))\n",
    "\n",
    "dt_score = accuracy_score(y_predict, y_test)\n",
    "print(f\"{round(dt_score*100,2)}% accuracy\")"
   ]
  },
  {
   "cell_type": "markdown",
   "metadata": {},
   "source": [
    "### Logistic Regression"
   ]
  },
  {
   "cell_type": "code",
   "execution_count": 17,
   "metadata": {},
   "outputs": [
    {
     "name": "stdout",
     "output_type": "stream",
     "text": [
      "              precision    recall  f1-score   support\n",
      "\n",
      "           0       0.88      0.45      0.60        51\n",
      "           1       0.82      0.98      0.89       134\n",
      "\n",
      "    accuracy                           0.83       185\n",
      "   macro avg       0.85      0.71      0.75       185\n",
      "weighted avg       0.84      0.83      0.81       185\n",
      "\n",
      "83.24% accuracy\n"
     ]
    }
   ],
   "source": [
    "lr = LogisticRegression()\n",
    "lr.fit(x_train, y_train)\n",
    "\n",
    "y_predict = lr.predict(x_test)\n",
    "print(classification_report(y_test, y_predict))\n",
    "\n",
    "lr_score = accuracy_score(y_predict, y_test)\n",
    "print(f\"{round(lr_score*100,2)}% accuracy\")"
   ]
  },
  {
   "cell_type": "markdown",
   "metadata": {},
   "source": [
    "### Random Forest"
   ]
  },
  {
   "cell_type": "code",
   "execution_count": 18,
   "metadata": {},
   "outputs": [
    {
     "name": "stdout",
     "output_type": "stream",
     "text": [
      "              precision    recall  f1-score   support\n",
      "\n",
      "           0       0.70      0.41      0.52        51\n",
      "           1       0.81      0.93      0.87       134\n",
      "\n",
      "    accuracy                           0.79       185\n",
      "   macro avg       0.75      0.67      0.69       185\n",
      "weighted avg       0.78      0.79      0.77       185\n",
      "\n",
      "78.92% accuracy\n"
     ]
    }
   ],
   "source": [
    "rf = RandomForestClassifier()\n",
    "rf.fit(x_train, y_train)\n",
    "\n",
    "y_predict = rf.predict(x_test)\n",
    "print(classification_report(y_test, y_predict))\n",
    "\n",
    "rf_score = accuracy_score(y_predict, y_test)\n",
    "print(f\"{round(rf_score*100,2)}% accuracy\")"
   ]
  },
  {
   "cell_type": "markdown",
   "metadata": {},
   "source": [
    "### XGBoost"
   ]
  },
  {
   "cell_type": "code",
   "execution_count": 19,
   "metadata": {},
   "outputs": [
    {
     "name": "stdout",
     "output_type": "stream",
     "text": [
      "              precision    recall  f1-score   support\n",
      "\n",
      "           0       0.65      0.55      0.60        51\n",
      "           1       0.84      0.89      0.86       134\n",
      "\n",
      "    accuracy                           0.79       185\n",
      "   macro avg       0.74      0.72      0.73       185\n",
      "weighted avg       0.79      0.79      0.79       185\n",
      "\n",
      "79.46% accuracy\n"
     ]
    }
   ],
   "source": [
    "xgb = XGBClassifier()\n",
    "xgb.fit(x_train, y_train)\n",
    "\n",
    "y_predict = xgb.predict(x_test)\n",
    "print(classification_report(y_test, y_predict))\n",
    "\n",
    "xgb_score = accuracy_score(y_predict, y_test)\n",
    "print(f\"{round(xgb_score*100,2)}% accuracy\")"
   ]
  },
  {
   "cell_type": "markdown",
   "metadata": {},
   "source": [
    "## Conclusion"
   ]
  },
  {
   "cell_type": "markdown",
   "metadata": {},
   "source": [
    "a. Credit_History has high correlation with Loan_Status so it's a very importan variable for our calculations\n",
    "\n",
    "b. The Logistic Regression algorithm is the most accurate out of the ones I tested with 83% accuracy!"
   ]
  },
  {
   "cell_type": "code",
   "execution_count": 20,
   "metadata": {},
   "outputs": [
    {
     "data": {
      "text/html": [
       "<div>\n",
       "<style scoped>\n",
       "    .dataframe tbody tr th:only-of-type {\n",
       "        vertical-align: middle;\n",
       "    }\n",
       "\n",
       "    .dataframe tbody tr th {\n",
       "        vertical-align: top;\n",
       "    }\n",
       "\n",
       "    .dataframe thead th {\n",
       "        text-align: right;\n",
       "    }\n",
       "</style>\n",
       "<table border=\"1\" class=\"dataframe\">\n",
       "  <thead>\n",
       "    <tr style=\"text-align: right;\">\n",
       "      <th></th>\n",
       "      <th>n_neighbors</th>\n",
       "      <th>Score</th>\n",
       "    </tr>\n",
       "  </thead>\n",
       "  <tbody>\n",
       "    <tr>\n",
       "      <th>1</th>\n",
       "      <td>Logistic Regression</td>\n",
       "      <td>0.832432</td>\n",
       "    </tr>\n",
       "    <tr>\n",
       "      <th>3</th>\n",
       "      <td>XGBoost</td>\n",
       "      <td>0.794595</td>\n",
       "    </tr>\n",
       "    <tr>\n",
       "      <th>2</th>\n",
       "      <td>Random Forest</td>\n",
       "      <td>0.789189</td>\n",
       "    </tr>\n",
       "    <tr>\n",
       "      <th>0</th>\n",
       "      <td>Decision Tree</td>\n",
       "      <td>0.713514</td>\n",
       "    </tr>\n",
       "  </tbody>\n",
       "</table>\n",
       "</div>"
      ],
      "text/plain": [
       "           n_neighbors     Score\n",
       "1  Logistic Regression  0.832432\n",
       "3              XGBoost  0.794595\n",
       "2        Random Forest  0.789189\n",
       "0        Decision Tree  0.713514"
      ]
     },
     "execution_count": 20,
     "metadata": {},
     "output_type": "execute_result"
    }
   ],
   "source": [
    "score = [dt_score, lr_score, rf_score, xgb_score]\n",
    "Models = pd.DataFrame({\n",
    "    'n_neighbors': [\"Decision Tree\", \"Logistic Regression\", \"Random Forest\", \"XGBoost\"],\n",
    "    'Score': score})\n",
    "Models.sort_values(by='Score', ascending=False)"
   ]
  }
 ],
 "metadata": {
  "kernelspec": {
   "display_name": "Python 3.9.10 64-bit",
   "language": "python",
   "name": "python3"
  },
  "language_info": {
   "codemirror_mode": {
    "name": "ipython",
    "version": 3
   },
   "file_extension": ".py",
   "mimetype": "text/x-python",
   "name": "python",
   "nbconvert_exporter": "python",
   "pygments_lexer": "ipython3",
   "version": "3.9.10"
  },
  "orig_nbformat": 4,
  "vscode": {
   "interpreter": {
    "hash": "949777d72b0d2535278d3dc13498b2535136f6dfe0678499012e853ee9abcab1"
   }
  }
 },
 "nbformat": 4,
 "nbformat_minor": 2
}
